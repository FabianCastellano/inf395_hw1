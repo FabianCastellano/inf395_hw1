{
  "cells": [
    {
      "cell_type": "markdown",
      "metadata": {
        "id": "8r1aPHri9-tD"
      },
      "source": [
        "<center><img src=\"data:image/png;base64,iVBORw0KGgoAAAANSUhEUgAAAe8AAABmCAMAAADVn+lbAAABtlBMVEX///8AAAD8sQAAXZbXAAvm5ub/tgD/swCYmJSTlJL7/Pv29vbu7u0JYJiqq6kNOk1aW1loaGJ7fHm0tLSBWAB+fn4Ah0woW37Cw8FLOQD1sBrWmRYACxQTS3EiQ1O6u7lPUE7Ly8rW1tUcZJMAJDtzdHKjpKLJjQBVRRkkJiIsLiqQZQBgYV/g4N89PjwYGhYALlWcbACGiIUAGDEOEAwkHAAaMj1FRkQhLC4PEwo0ODG0AABNAATPAAoeICSXAABfAAAAUIEAV40AL07joAA+AAAhAADhAAv/vgAASyoARXTGAAk4AAAAPm8AABRzAAaJAAe8gwCzAAkAgEgtAAIAZTpVAARzTwAAOiEAUi0AK1UAGAAANFgAGiFWSEVZHxwtRVIjUWtIMi84MyMZRF8gV30AFjwMKDcAKVYAESIAADRbMS9CS08AFygEExNkJCEAACBjUE0HIiVtJgRcJQN2OwN4SANvEgViOAMkEAFILQE9SRtYTxQAKR07GgKodgAiORktWSs2LwBkRgALJxEtIgBeLgM0HgFja3AWHgkYCAA7NAAAID1wXi2JbS0bEgCkfy/Glilxye64AAAgAElEQVR4nO2di3/bNpaoCduUxYcZkbJbxk7KR0ymUkgpYZXIUuyNLcvJxHabOO+27kyzO5nc3k2y857p9Ga820x2ppnO9s5/fHHwIEGJSmxvxt7e6uQXS6JAEMAHHBwAB5AkjeWHJZ5SLhZlUEaEewuixMddCj8cCRE6kRe0vIoFVawgJ3ONO3B941Q+9GOE5bMT/x15hurycRfDD0c0q9abyWTyzD9dnsKy9eMBBvZP4PK1K4szojzsYNyNysOZw8vnOIaKejyZ/0GKg2YmM2G8py7/WBcD+csrjLcQdvLdFkI1R1fNh9m1tclBGbrSE648xLjL+qi0jeUfINaJAt7Xtv5ZaOHexhSVHO+ZJkIKfK39y5kU7qvdAbqn0SDwxcfZ43CFGWvzoxV/idKaEXljlf6L1I6iynyI97sdlNAAyk8J67Ve77EfbfbWOGF8Ze1JfKmXXultrvV2E/s8vtCjzbvmH1e+f7DiPsIlv3n+Z5s9kfe1VKX7Gyv8GuHd2/3Z+TXSchELYX8AlWWz4n6USPGzRtA5TfE+DhrIxz2GW2H1pFcPlhqaVDlldtfxLTOPUXB8+f6hionp7LqGF53qTZ75ZQp3auufSQs3Nq6lV7Yxt17blMvR7uTMe6jOo3gGKuLDsuRHkleWdK7C/5culQ0p8aUyYi3+KX6cLFU0yYUacGYJeceX7x+qAO9LuKVq3XVMwLiXAr/8C9y3OstZBVjuYEofGticjhHwjngUCHhvRgDTkiWD0/3EkOSKhptw9AW78r9jyVGgSjQ3Ke+xrXbkgnl/SOwu4+eYQOz/JAP8r7qzzT9MrVyNwsXJ3iUwsLTKJuat8CiA99rjxA3LDdOOku4mMQY2n1iRbXaTsDL3lHTXk+eDKHDaDScxzW/HvI9JzNNrQaxh8a3dM0u+JACf+tfl9O3WdqQ5H0ye8GRN1XT/yVqe9+kmrgd2QzOxDae60DuvV/A3SaQ3bGwDPIMu/ZQhSbIbehXcURhfrI15H4uYpz80TM+240BBjzBvyV/N2nSKfmWjrUnVDyYrlp3EiV8JFvO81z4rS7gxG65rSE4devDdrqeGFddom56koGeY97qpy0rXStqWLJtoccz7WATr8y9kw/NCFVHekv9vU4OydTXSJOC960qurugOOjGgzye/RYkcBpak1NAXxEDv/bxelswg1BOEFolC30SmLVfM2I8Q2h3r8+MRzHvXqni+ayGiz7H4NwZxb1SADObdu1R29WpQOdUb5L0ZSJoL1riBaG8984kteQFY48EHzF77QJUUx7ckqb477r+PScA+X0f1NkKf9RjvwRa+dcfV4DLmPbmGULuOm+egvYYNd62cSH4gy9w+/1aTI08qK1r1Izb+fqJ6uFtwHckc8z4uMYnyXVukBChvT7DZyFCcznpWaTvdXcTd8xDvzQ7CI7QqQt/x8ffj7xCqSgF69h2rAb1OC7VktYM6rx6PeR+TmKezOVLGO87jnrp22SRBqx9kQYd493Y319bL9VNra7uM9xq+8nkZra9trlMNP3l6d23TTNBpfGXM+5hkmLf3k6kBuXY5Yv33aN5EPsovj8xg9f9ZbzJ3aRetp08b8z56GeLt/Vs2CstPtr2Zd0+IjDXyoQXRNMiY93HIIG9xvmV7OWvhP1ZH8373UPKwNuZ99JLnHQvKfGu7EmaLY1s/1p1RvGcPJffRmPfRC/DubZ448eEa8Day1r2y3NUkYzUFfvkXIaxqba5fWt/M8z45XzqMLJwa8z56IeNv05PDpTVYD01b98p2G2gY6ZVrl6/CemglUavm4gDviUPI9Jj3cQjm3SMug+a64O8wtbXhUhjZiijxd/iwKvH10DHv76Ng3ueBoeQ/FXlvdDUWILwn8F57AojU4MMx7++pmKc3y56qaZrjrKe8t7ZdLQ3hCP6KT/xY1vTYd9fGvL+fgnknStWznbKJHjHeW8ttTQhSZU4vmPdfzNjC/6L245G8p6enyd+Ba/kLY97HJVifP5YUz0+kFvC+hmVq283vAaguT8H1K4szH1akSJvTjNx6aI53f6d/dn6+1O+Lpvh8H8tEafpgvGXHxuI4UPf0qgNvJcnDr9ztzYcADv5UpSFxvxTTd8T3TnXgHl9S6df4dvKKv4mVkEo15yArl4O5si9VyXKBx+LUWDps/HfYe9o3svdalYVzCjdJaXZOPJUllqcrS4ocKsGcgjNraCyTYok4tqrarGh4AapVZS5QcFp9W3iiUuDtjXmfturVuO2izTP/tLGM5Sqq/CUiYtKXvyxdhevbizOTj81IK7v1L3oj2/d9dIPI737161/9+je/vXDht7/53Y2bN2/euPH7/vSBeOtOBSGkeCoprADVHZx+X8HXQp59F7UNXLheuYZQPcTk4wDBO8rbwx8S+NqCi7AzKsLhcBlqXoSvuFEb4kpVWYiaSWg1O8ihJLsINeHpOn4MQmYQ4Qump+XSaAke9OR5yA0CHK3rDOUtxmlwXRxVC/+tobqOKzEkoAIJc1HqDyhXUNsql4M6qiMceRziMAkvERPVDHBKCes4HsWnidETnDslnGvgO4T6pyKrkPfkLqo1EHrcO7M0e0GUWSR+2pvF9vnaU9T4DqHTI+216fkvt64RmVrBsnX58tbKNfBxvXbt1h/mpw/CG2cEoQZ/r7XLHAtCvC3EiDWlcloJMNs0m3KTFpTmcld3PUCkjOImClRJg+oRMYI+qoHiiCs8JgehOfaYFqGh+3MYj6gSdFgCzERrk/1wOjBqiC2NplXRsZ2E6wL+Kwd1yLyNmE+25rcYb6/JqqBuIurAi9NBqyAIf+dl2ZQbyCIlqeHHCrxDVBsuYDq/1ls/PTM5eaa2kJsROXvxR+T1R/TlLPUjJ8tdo3lfuJJ6MHPDnl/YOFc6YP+NCyctSzfDkO5L0Ttp3njBq/hrfo+PaDgtQnX2LO0bUphyHdHqY6YVJWBFr3dYa7IRz6PcQibt4vx6VtkkUs3q2SeoVw36HC2Ll0vcEbOkdSBpfjMtxqrLkpyxDZDNLiFer6Uue3qcNfoufwfFkPHGlW8wCdLAfGptIadxz14s4fba3/nqq53+PP64WDyfKvKe7v9ugPbUyo2NW+TN6qvZt8K7hpVfmxa/yJvnVMnanFVh92a8JZu27zpLv5M+IkJ02Vcy2GsRb8nHmjjtnjUXl6nQjjPe8EiUb+G+kssSuG2KvHUSWq1nOZY0xruTYHXBajjn7ae8K6iZ9TG1cvrW62Btk+99pDfznvjr9evvvPPg4/9T2hfv0rlb1wbb9+XV1irW8TeuorfTvut+l2e2iLffQhWaTZWXuMibSsobl1ubl1uLGoI606yFvKFJp/2FV9Nb4iYZgTc0wLzZq+m5LMWQRoE3lWqulgTUkkBSPe3eh3j7SIyC11XIT7k6WOWkId5EcU9Pk79Yn5dKe5g2yPO90r54//Hm8s0rV7ZyzLdu3Wtdbb1CqH/A/ntE+9ZjbrMV8cZqkGUz5MPKjLfP6KS8w7STLovdJEgxb03oLxqhlIj6XeSN6w8qstOFLIm8E5JU1c1tiI9JZJi3Xue1bIh3koOqp4nxa7HWGKhy0iDvnZ3Z2dm9hf4efsEDq4s/Ovvvdynv2//R35c+X/j6m5edT+/cGmjjt25euYEuHMw+l0byBi1MGmMhb1wUFVp4XLllvJUB3nIbtVgR4X4Q298ComLeaoT4PqgYmwe+2MBzvI2i7nMUb73JzcghQsAbzDPaSw3yxo9sFg7/FJPUhcEtWzne9b3nd+/evf6Hc/Dy/AXm/dfb7zD5+AXj3Xsdb+jvJ84u7G3nGjix1zdeTky8Ld7QGDv6CN5ABEolRrz3wrybcCiJUuG6OCb2mm/gQU/aOghwFKblXcwbCpHZBwmQNoXyzvH2UdF4aIh3JcQJS5pIZfdEQ3cAb8gwqZiDvHHLL7DCQQ3hgDKr+YIA77Xznz85vwnt+yxo77uvduDl+neY94uPOe9n9wnv3afuY2ygv2b+fBom107SBk4HZbdW71yZmrp3v/T2eIO2dLVi3gAKSjpIGx7m3QosyzIbAu9au4VHQ7nhVLkFR1bEWTRFvEPebvUOcf8S+s9B3llnWpglwruN02VFjLc3kjdUM6jhg7zl/AghFaMBEQZDfQpZDw08uVrfxLz7DwD0H8gLad+zDzjvu3vAuxdZqqd88ab1semzr3AXvnVr9d7GxvIyQp+urqzeevE2eWtdgFrMW+qAK4XeTVtuqs+1INPnFTlB2UiGlSLM8PD2OoK3wh9VpQ+vZ/35Ydo3Nxs1ds8o3hpOWqQWtu8hIxz6MoNlYSCHsB5KEhB8C7y/wvr7wf3+n6BB75192U9xv3P75Q7m/Qm0B/nN66GlPXRzZePWd+fOnfvmm3P90te3lm/8cf4t8oauDpVH8DaAlJPV+0J7LSCKP28e09E9C/um/rvbnsNNc04Y5h6+/5bmKO/OiP5bImQxvCHe7cL+20egz6w5XHvzk6qY9zod5V3qYd7/fvv27QezE5/il1M72D4/yfX5x3+6uLc4uUlXxcvn37geOt2/egut/nq+VOr3sb2/d2N5487Zt2avkVcwYWrs2zxvuYsaWiMbima8VfZIwpsUIVcCPC1ei18r5q13WHu2mwkVrJP5oFvk7R7IPtd4BLWhmxhvMA1RtVFgnzuDd2CsbYWkLRisdLAeWtU1XVfsRcx79sH1B+jcxEl42QH7/FPevNE5rM8veY6uyb4T7GM99OvVF+hin/TmE6Wd5VdXvzwM73Q+VW+wrpbzBsXa4ao0zxsKQRFKOzf+lqHCU97QX/LWEfDgFsdczNvgU6AB17xzaaV57fg7zZKbfciNv32VJNwYvIPzhgS1moO8vXRAKYjO7XK9hmu++A3mHSi+YRt2Fz1aWth5jkH3S+cw75d4PFZaeH6XWOi3byMYj33uylFsykF39HpoyvPF6lm0vEMRl87d62z88YDrJRJpI7zMYh465Q1kRvDWUa7zzPFuk1lyyhvuY4QMbskaPKri+bUm6ur0EdkkPnLZc4T5tUpu4jWTkbxjqB5aJ8uxxJROyhtqOBqaX2vnHkS1dzn1X1DyM/ygzz/wq15sSa1TZ2oLe88ePEDz07PPHzz/A5lf20OE9wP0HfDerEgVLfSr6Kdv1OcL9zZebC/vERttem/7ztd3vlw4MO9qpqwSNg0m8IYBFHs7wDubcyEi8nbIhIZc562UW9Eef5KCOrT8cryDwflzJTOTAt6jZ7xls6ChEhnFW4sUluMkNRUscinjDbP9Q/PnOEluZjQQpaPVUzh6On/IYjiNO+Vu6He7aBPznrhw//79+en52fv3ZyeAd+kkjMjvPpvtk/m1E2bXV+rNp2/2Zzq5/GrnBWIqfAdXzHto58C8Yb6JFKVaTq2Saiu9LU71eXmgeL3MaKbRsBUWOaScU0NYrTOqcY3G4POZNzAQWJHGLeiitdjB5R3J7FKmP0JeZzRsPOFqJtu4VTWKD6dREapln7yMWsQqKAYe0aw6DT5jmtYsrcF5C+tjOMW0kCSvQhf7FGGapZGfc4Hx2Obi0+/Q4nqPzZ9Pl6gzSomsl/RPoo8ffPlygc6f99YXn6Gni2tv5t0/OTsxwb+Z7p899+WLAQWwH/8WHevsRmC59YgbWiGuzg63OW1K1VOwGuyUxXy1hXGIZ8KSWh2kQ+qF5tRB4UOHCQsgqOIBq3ajXQ4T1KJ2nm80IYynShpZpm7Wa51aO2DFbddQh62cazYsj+PuX7VhVR3hh9QaplN4bKTuVUikbN0aktEi6apnXVMcdSDL7XpE8hMbddSuplYB7b/jsAar4un6NyYeWZV6m9hmGtY3rkefH+PeKU0p502ORkvXS0r9szsL4ItC10um5y98/HwP7C4y3zIzs7b5uvXQjOdErjVPTyzMH9C/hYrvJJFlpD2UZ3uel/mCUOMTrsFl4TYv69NU9jUTDdai6Fs6p8XeKbLuhYHFXV48GsZWcXPlt8a83FTyFU0+iyzG4NNwozLGPVpoPHIuYVmCY1sJLMMTM5wdhxeTx7PE8fRgjWKZZU/PomVf+baQUhA2nzqTro+VXj5/cP36NzvTjDdu5h8/Pwvg+fz5zOvmU0fLgAPb2H/tWGRoPRR32Ng+g6VLxnt65+7znemJ/a1/k85gyD1x+MqY9zHJMO/ZuzDaFtr33u0H++Y93b+wsLfQ7/cXhE1GEws7WPrTh9LnY3mrMsx7D/O+ixYy3ufeebBX2m/7nphF4JuI/8OR6b/6z9/+9je/unHzyi184T8PPh4by9uWYd4XPsa8ycQYs9e+eufuOYH3m9ZDV1fAWZH5LG5tba1MXaNrolt/PrC/w1jetpD10E+e/OWTTcZ7euf59et/SnmX+u/ffued/+iXGO/1L4LXroeWLgy6OqT+iivLB/ZfG8vbFuD9XijrPjrNePe/uX79+f0SG4/tXEQP/nT3wVdn6fh7zTKkuDp6fWx64eag+9rUjWVSBVZW74x5H7sAb5hp0hrrnPfF69efXaC8J17g4Xrr4kX8d4fMr7H10N5I/7XZrSF/xVvLrRtYx6++QhfGvI9bMO/3yGDeX+qdWQKLan725cuLtMO++KM9OIZhZ/7k7GznLMyf00nn6vpI3r+m/oo54OCv+Kp1FXUOut8gL3pO9hVof7+NovueTybV00j1GCZQCkSmAfNP3F/yByQ++O+2HPS3nOICRwjz9Ga1rOt+nBhfzDwl464JPJwChNT//CVuldP9nVK/v3Ni8onn+JrtJ3ObI8djJy/+9dNPN/LAp1Yu37y1ivYOZp/7FmxmqlCJFCmpNGDOE6TRhvUPI4hoiChJZ5qSSAjU9iUthE1RFRzIDHUeL9knFbDpOD9o1OvdbiX0+JR3bHVhitMNB8srNmv1RiW0XfGLMPNakhMcL1/uSCB1lq+bJAssJ1GF1RVteHE8hBtEdxQD3xUowuR5NmFMywYyRmeF+fNw+Kwe1Ya8kcn5yFE1tENw3Vt7SF2O2NwI8Mb8iGrHer50/93JJ65eiQM97Hw20j6HCdn+zvKwv+KrrycmDsSbrB3UjCqIAssbsGNijswPhjW6c8RFyHSqRtJEbEuNJKmNNFCTLC7o+C7Frhr4Oi87H2XbUSxUhw2CfpKuNYLDkgzwUDO/oumjliHLdh01xYQ3W0IoG36Ch71XTfChlREKq1VcujX8EnY45nDQ0QgkSwOIjlMsPsnO/R6EgbNuO0aQOdypsNYn1EQ/vzJGBevzE1oSe4qHnk7OfLY3MbifiF+Y2PtskqyHqlWnjE6/bj4V144X7JdvVqi/4vaVqak7h/JX5ItAZKFPQS2+kYjyNhg3FUPoOGmhsXtiurBp0UVKzco8A3DJsJ1GFXFl26f38w0kVdQUl2A0lzm9V1COQs4nKhG82B0X/5E7Hr2X+B34jDeuugVupTJCAtMqyruX5h1mYpZ1n/oxkudldY3mu+AHJDDvNbduhJ0mwiOy3qUX5zK5/+pC9uHkL2Hg/bhdgyr1pvXQ6YWr1F9xY2NjeRuhr2+srF45lL8iJ6RDOWS8mTtK6psgxem6X8ZbCjyab+pvBDsF2MaTlHcg+PcbJAJxU4aZ25Djd1jjY5WNPQPlll6BN3cZo7zpijRfGWdrneBPPrw+Lrdagk6pJznePso5H3LesCbOKOd5y60ih0myHrr+AULrZOJl5t3d86nsrmfvz79Lf6lsdx2hxfU3roeWdj69uXLn1jcXLux9ffLCROnkre2bf54/hD9TzldH4E0l403aBmmpSa78pYw3LAXTwkx52zn3LrKK3OF706S8r7G4c2cucxnxO9VcHJaC42b7WghvukM85V2llbJtdMV1cCZxQ9BBXifO8Z4LLPH3u1LeXqoT8ryVKEEoX1xSOr+2ucZ/eG5mskdXy2bYSphwic6vnd7P+th0/94ttPrH+VJpfh73CXs3tjcO5b/Gck+bXMpbY01Q4J26fqW8NabNUt51rhBT3mauRMo+ad5CmXXEBh7XELOA/KyTnYukduqvCA9LNJe7PxDeLC2iJyO4KMjVAj/DuA47pVi4IFFF3hqSPbFmpbyraTPO8dbqtt8aNhLMwSMwzz82f5b/2bi180+jbwd+SW4f66G/v3cffclmUEs799CrQ/gzpbxpDU55x8xXUOTN63nKW2fVnvOWU83LeWMNzx2auSQ5f698lxmhIRdjFfcBoeg7Zc1J6e620byVCKyxIVfzuKYrnJmM5Bzv0IXiyHRCyttNU5zj7cBPf+UeSmSQ96blSVryba4GKL5km3ngAm9thL/D75d3treZC9P0If0VcdXVNE2XFepLjnl7MRa/UcAbXDEhQtBiEMhrsGpvUf3qNVIunLc/tN8GGqcwilFyvawGXij13CDHcFVJb2ZetMCbdM7QdkfyJpt9CjZ3xTUZR0YNucCE6pgmT2s7eS89xluey7ax5Hg3wsHuiqZvM897HcrBQ+Kln0N/Fv48z3sp4/2yP12A++y9Oye371B/xdKF5asvrw62732cp4krtItH0k3EeSPm/FPAG3fPXcabBUp5N+wwiTrI5WqY87aHtnNojcH9/KLFK4PnEprLkq22DSlPDngDF3C3G8mbbPaRh/cbYd5g/0GcOq5XIm+vRr7nW50Jb8UpBw1US0foIm/izosraHPgEc6lvDan9aEs1IJdWqJurmKcEWrO0kIB74kXy+js7NeCv+Jq3l+x9Lf8MLZQsEXq2bZdbWftW5Zlv1or5k1sbWjfEMjI2nerAkeqCCetvJa3oMEHeMMmA/AHyzbdIvo3G0UR3jAUwh3/KN5ss08wZE4BbzjmRYW9zFKON3VNE4ZYOFzbzFv5Im+ajnDISNDaZ0SOVhj7kmc49fQc6825UJZVPbSXhJPM4Zec0ypd/VupgPfCyXNCY57vX/hzzl9xel7ckzVKeNcU05JL+2//9fqcXvDT/rsWS7nzNV6vzwUtqwyNmjSlJQA3LahasE2Fk6PlDEOBYCRvD/lwWzi0mwl4QzWo0nNaBN46goouO9kVos+xrdbIClHgLdcNCO+1YM9ZTpzPxJ+Ebgd6JEW6idLues21/Ci25G5N6OkfdVA2p6i1FwqAT5fyw+1SP+fBVvqvUQ7aoqSmCG2qmX3ObhV5853YmX3O7wXeckdQ1IK9NjB2G9ieExXsCbKzaRDYw8aEG8KMN9ndZrvpTTneQXrXwJwL4U1OnLBhP7jAW0lv4TWL9t+WOGIVeBtZ+MEMJCcE4B+GtiWZviX8UMGu7YfYPm4Ll858l9/T8MuiHnyoAogfSnsj9rHmZWBzxOvG31AkhFTB+Bv2ZPlC1jlvdXgTiJNrdEgYj2m8HmDgbJOXwu207FgGxpvYbJEwmhJ4pztTjMHegvCGDSN2BbKV8dab2bFM3Ceelo245VHgzZVZwYZTNRCA9y7VXblRR+tZFei1G4HedoVLj5YGNFH1/aIW/hr00zutwm1ug/Ia3nC6nshb7zDbRORtw7eUN/TFXCel429naL+s1BQ2XNk5IHyLCmzJpMTSh2fp4LzJsWHFvMv8mBG9i3IHWTLeUJ/IcQ8ZbyfNUjp5z3hjEy4dUGS87RafU48Kto9ajx9ldNcXEVrcFX91pAfTb9mlmYedoUpTXdopDR+ZOQp2qY+V+dBO3CIZzVsl55tl5aylx+0IvFUXAjHe2dYhYT61InbXPjxMmE/FzV80Kbt8K2eF7U5y0gFG1jGkvOFxhby17Aylwb2dlLfa5md1pDFkuyfS2Tw+/sYtvsOIZryzow7sooIuo6VHa2e4PHp0RuzSZ86cmcGXzsyQL9ceLiFhixMXufH13xcW5gWZ5sdnYr7i9fmFhb919olbGujjM95aQBQt56162cEccylvjBVeOG84IoA+VU3n1XBbrTPtqhrtmBYGXy9R8gtkCYPjNxmOdra2kW7Ly3hrUTFvI9seNLi5i/LG3FiCOW8nq5RynekEn5cNfnQ73SHN9sYI1Si/AZGJ10GdpUuCrD+kZvvMu+8titeXwEJpFhhaWoCe/cv7gtz/r7+TLnt6/v/eF6+/X/sIZi32ocxJBhrCRxl2vBsgiktLAk5iM6pG4majYhmnUOGBoDT1dJ4FNlCTpMMMGKsdegXGfPhSucKXpkO6HUs2Bzp3my6o6i4bBCfCWhbfZ6p1a2npyshNvwf7jSWimY3CVJRv4GX6SWsGPNImy1I6ySM3WONX+MZDOICAJshk40JcibNYawWtE4sTdFBefgonLn6OhqRiFA+j/KQ+EJI4Pf79o6EYOma1MIbBCK3INM0gVQRWBX+M+MmuOEdV06RX5sLsTMJIDFSVtKSBhe3FqnYb9XYck3gji/s70HRb2byZruBOHBfnwNyUVzPmmrUaqpNGpOJYIotqghieGpm+nkDM6TG1nssjNLskEfAjypAJFrFC0pGqasOEGCEnVXIWH8mKWdZifEvEfC9IlqNEs10cY7fNjmhqdLtlKTEhEUFZgvBmwpZsSHir4OBcSZfhpF4u5aj+3swM1t21wPB0ORO9wEmGx6DHQlCvGnQXSnuncBNUnFgWo9inK49KRMt/5CJeGLpH+EIjwh5J32kDt2lD/lG6XpBROBsCsseNPiEKHl8+wemZEZKeJkJ88kAyij9quSfxMBqJkSWRRM5zxcJrhXG+TmT34XsIdYuqBpY4kxEhsHjv/x3jVvaJdyzHK3BIglvcmnW34abSHjzjKxMYlJRHfjuW/1lidIuPpMANt65logaDc3apaBZy/0GJG8vbF32UXWV3SU8GSzCynA5UiqQ6osaM5fskmLffCP2uI2nY1k4KDxoby/8/4nXxKAA37E4slfUx7++RaE714OIkDcw7Vst2RwtBn5uHiMUZPbAbyz9MAtc6hESUtyKFkaJLllk1Di7WaLN+LP8o0dqHsqe8BtHniiSZDcz7UEMuvW6NB0GhazwAAAL4SURBVOZHLRpZI1Bh2kSTY02D7XAwbaPFxPrGrzr+SpU0jc1AUSWMeceNalyRJdXCvIW1D80nhxP5fgz78GJyxfc9ncSMrwiTT43x/tAjF8pbspJYMWTwloOPgYHNbt8GD7lyWysnRhDLFY+sJXt0qQTzln1f9mFApuZ4B443J0lJ1beqkkaWdVTXiO1QsmCQblXGvI9VVJfwVhTYbWok9Kf15jDUBFcFjD1xJceQyoqEw8FPyAYuuc0Tl61yvJEveVIV3I8wzQ516vdhz6zielIcCCEx77HFdoTSJnOhdKVVSXSY5a7QcRXjXXVV28a8ldj1pYptV1QpthOy0OTVBIPccYX+O+zim90qrkldW6IL8Sb4SEmKF0mhk+PdgiR0x5340UjTho6VbiZVAh+MpzItfIvy1rue7bclJ/ETW40scDAIQ4ussHpIWPus5YbfcRsrA7jQ9ThvRyYRul7oC95DesPBCfCb5bFWPxKhPwtB+2+lDIcW2KpDHH4UjEuBMw66cdwGfe5VtEoMOh8HowZepYYaZSpBSziiXXYkua2BI66O6wd4ozigz7GOTyQHqV6ON7lt5Bz9WN6uEN8Zbq9Zupf4ihTXoGXGFd+uSrahJZLdlsqWHRla29FcH0y2hCALMxd7L7cNveFA3SkrtoV77VrZSBStnRiKogWeFqpKJVs81clR/Wq3NeZ9JCLw1mzPtgU3Rtnx8EgMLsRyTI6n1WUZxmi6pMoy8SLopJthvLyHMx236cKPC8iZj0Au4Jj3kYrYvg8uQcrbb+jasKjCW3C3GJa4O+Z9lEJ5N8y5w0jQyja71duVw4iLxryPUqjva9Qd9kjcn2R+28abAxcIHX6PeR+VUN4ebGKSDyHiKOoQt8cR3a475n1UQnlrReeIHIWY1Mwb8z4qYXsTy8fDW43ols8x76OSZkw8k4+JtxQE1HAf8z4iaafzocfyeJ8bimPeRyOq49KBUcEpm0chmtIgctgZgLF834Ts43nN/qSxvEX5fyIGJYrSZ1IFAAAAAElFTkSuQmCC\" title=\"Title text\" /></center>\n",
        "\n",
        "\n",
        "\n",
        "<hr style=\"height:2px;border:none\"/>\n",
        "<h1 align='center'> INF-395/477/577 Redes Neuronales Artificiales - 2022-2 </h1>\n",
        "\n",
        "<H3 align='center'> Tarea 1  </H3>\n",
        "<hr style=\"height:2px;border:none\"/>\n",
        "\n",
        "**Temas**  \n",
        "* Manipulaciones en pandas y numpy, imputación de datos y preprocesamientos\n",
        "* Redes Densas Feed Forward\n",
        "* Regularización y Dropout\n",
        "* Vanishing Gradient\n",
        "* Learn Rate Decay\n",
        "* Optimizadores\n",
        "\n",
        "\n",
        "**Formalidades**  \n",
        "* Equipos de trabajo de 3 personas (*Los estudiantes deben estar preparados para presentar la tarea el día de la entrega*)\n",
        "* El entregable debe ser un _Jupyter Notebook_ incluyendo los códigos utilizados, los resultados, los gráficos realizados y comentarios. Debe seguir una estructura similar a un informe (se debe introducir los problemas a trabajar, presentar los resultados y discutirlos), se penalizará fuertemente ausencia de comentarios, explicaciones de gráficos, _etc_. Si lo prefiere puede entregar un _Jupyter Notebook_ por pregunta o uno por toda la tarea, con tal de que todos los entregables esten bien identificados y se encuentren en el mismo repositorio de _Github_.\n",
        "* Se debe preparar una presentación del trabajo realizado y sus hallazgos. El presentador será elegido aleatoriamente y deberá apoyarse en el _Jupyter Notebook_ que entregarán. \n",
        "* Formato de entrega: envı́o de link del repositorio en _Github_, al correo electrónico de los ayudantes (<maryon.morales@sansano.usm.cl>, <sebastian.sanchezl@sansano.usm.cl>), en copia al profesor (<cvalle@inf.utfsm.cl>). Especificar el siguiente asunto: [INF-395/477/577-2022-2 Tarea 1]. Invitar como colaborador a los usuarios de github \"ssanchezl\" y \"maryonmorales\" para poder acceder al repositorio en caso de ser privado.\n",
        "\n",
        "* Fecha de presentaciones 07 de Octubre, en horario de clases.\n",
        "* Fecha de entrega: 08 de Octubre. Hora límite de entrega: 12:00 p.m. Cualquier _commit_ luego de la hora límite no será evaluado. Se realizará descuento por atrasos en envío del mail igualmente.  \n",
        "\n",
        "<hr style=\"height:2px;border:none\"/>\n",
        "\n",
        "\n",
        "* 1 - Redes Feed Forward para predicción de diabetes.\n",
        "\n",
        "La tarea tiene ejemplos de códigos con los cuales pueden guiarse en gran parte, sin embargo, solo son guias y pueden ser creativos al momento de resolver la tarea. Soluciones creativas o elegantes serán valoradas. También en algunas ocaciones se hacen elecciones arbitrarias, ustedes pueden realizar otras elecciones con tal de que haya una pequeña justificación de por qué su elección es mejor o equivalente.\n",
        "Recuerden intercalar su código con *comentarios* en celdas _Markdown_, con los comentarios de la pregunta y con cualquier análisis, fórmula (en $ \\LaTeX $) o explicación que les parezca relevante para justificar sus procedimientos. *No respondan las preguntas en comentarios en el código*.\n",
        "Noten que en general cuando se les pide elegir algo o proponer algo no se evaluará tanto la elección en si. En cambio la argumentación detrás de la elección será lo más ponderado.\n",
        "Si algún modelo se demora demasiado en correr en su máquina, no olvide que puede correr _Jupyter Notebooks_ en _Collab_ de Google, incluso con la opción de aceleración con GPU (particularmente útil para los modelos más grandes), esto puede ser relevante para las máquinas más lentas al momento de realizar exploraciones con _K-folds_ o las redes más grandes. Existe también la posibilidad de utilizar _Google Cloud Plataform_ o _Amazon Web Service_, donde tienen máquinas aceleradas con GPU; maquinas ya configuradas para _deep leraning_ pueden encontrarse en el _Marketplace_ de cada proveedor de servicios."
      ]
    },
    {
      "cell_type": "markdown",
      "metadata": {
        "id": "GnyDQ-3kdlTZ"
      },
      "source": [
        "# 1 - Redes Feed Forward para predicción de diabetes\n",
        "\n",
        "De las redes neuronales artificiales más simples se encuentran las redes densas o Feed Forward, donde todas las neuronas de una capa estan conectadas a todos los inputs y envían su señal de activación a todas las neuronas de la siguiente capa. Estas redes, si bien son las más simples, suelen tener desempeños bastante buenos, y en muchas aplicaciones reales son utilizadas, ya sea por si solas o en combinación con otros modelos. Además, son las redes donde más facil se pueden observar muchos de los fenómenos que se han descubierto a lo largo de los años de desarrollo de esta area del conocimiento, tanto por ser de las redes vigentes más antiguas y por su estructura relativamente simple. En esta primera parte de la tarea exploraremos las redes densas y algunos de sus hiperparámetros más relevantes como la profundidad, el número de unidades; estudiaremos también algunos métodos de regularización y evidenciaremos el problema del vanishing gradient y el exploding gradient, viendo también algunos optimizadores existentes.\n",
        "\n",
        "Para realizar esto, utilizaremos una base de datos de variables médicas predictoras de la diabetes en mujeres y la variable objetivo (presencia o ausencia de diabetes), la cual se encuentra disponible en Kaggle, en la siguiente URL: https://www.kaggle.com/datasets/uciml/pima-indians-diabetes-database. Las variables predictoras incluyen el número de embarazos que ha tenido la paciente, su IMC, el nivel de insulina, la edad, entre otros. Nuesta tarea durante esta pregunta será predecir si la persona tiene o no de diabetes a partir de algunas de las otras variables presentes en el dataset. Para esto primero deberán explorar los atributos del dataset, imputar los valores que falten o eliminarlos en caso que estime conveniente, y luego preprocesar los datos de forma eficiente para que así puedan ser utilizados por una red neuronal. Una vez separados los datos de entrenamiento, validación y test, procederemos a entrenar diferentes modelos, comparandolos y evaluando sus desempeños."
      ]
    },
    {
      "cell_type": "markdown",
      "metadata": {
        "id": "ZvDv0hugEGi0"
      },
      "source": [
        "## 1.a Carga de datos y primeros análisis\n",
        "Para cargar los datos, puede descargarlos desde el link de Kaggle, o puede descargarlos desde su jupyter nootebok como muestra el código a continuación. Para obtener más información acerca de como descargar datasets directamente desde la API de Kaggle puede dirigirse a la documentación que se encuentra en el siguiente link: https://github.com/Kaggle/kaggle-api#download-dataset-files. Para usar la API de Kaggle dentro de Google Colab puede serle de utilidad el siguiente link: https://galhever.medium.com/how-to-import-data-from-kaggle-to-google-colab-8160caa11e2."
      ]
    },
    {
      "cell_type": "code",
      "execution_count": null,
      "metadata": {
        "id": "XJChEsDZ5Pig"
      },
      "outputs": [],
      "source": [
        "# !pip install kaggle --upgrade\n",
        "# !kaggle datasets download -d uciml/pima-indians-diabetes-database"
      ]
    },
    {
      "cell_type": "code",
      "execution_count": null,
      "metadata": {
        "id": "_bc7svRyH_Gf"
      },
      "outputs": [],
      "source": [
        "# import zipfile\n",
        "# with zipfile.ZipFile('./data/pima-indians-diabetes-database.zip', 'r') as zip_ref:\n",
        "#     zip_ref.extractall('./data/')"
      ]
    },
    {
      "cell_type": "markdown",
      "metadata": {
        "id": "QtpxQvPnHr0L"
      },
      "source": [
        "Luego de descomprimir el archivo descargado cargue los datos en un *Dataframe* como muestra el código. Explore superficialmente los datos utilizando los metodos .head, .describe o .info del *Dataframe*."
      ]
    },
    {
      "cell_type": "code",
      "execution_count": 1,
      "metadata": {
        "id": "avgT6Pg0H0gJ"
      },
      "outputs": [
        {
          "data": {
            "text/html": [
              "<div>\n",
              "<style scoped>\n",
              "    .dataframe tbody tr th:only-of-type {\n",
              "        vertical-align: middle;\n",
              "    }\n",
              "\n",
              "    .dataframe tbody tr th {\n",
              "        vertical-align: top;\n",
              "    }\n",
              "\n",
              "    .dataframe thead th {\n",
              "        text-align: right;\n",
              "    }\n",
              "</style>\n",
              "<table border=\"1\" class=\"dataframe\">\n",
              "  <thead>\n",
              "    <tr style=\"text-align: right;\">\n",
              "      <th></th>\n",
              "      <th>Pregnancies</th>\n",
              "      <th>Glucose</th>\n",
              "      <th>BloodPressure</th>\n",
              "      <th>SkinThickness</th>\n",
              "      <th>Insulin</th>\n",
              "      <th>BMI</th>\n",
              "      <th>DiabetesPedigreeFunction</th>\n",
              "      <th>Age</th>\n",
              "      <th>Outcome</th>\n",
              "    </tr>\n",
              "  </thead>\n",
              "  <tbody>\n",
              "    <tr>\n",
              "      <th>0</th>\n",
              "      <td>6</td>\n",
              "      <td>148</td>\n",
              "      <td>72</td>\n",
              "      <td>35</td>\n",
              "      <td>0</td>\n",
              "      <td>33.6</td>\n",
              "      <td>0.627</td>\n",
              "      <td>50</td>\n",
              "      <td>1</td>\n",
              "    </tr>\n",
              "    <tr>\n",
              "      <th>1</th>\n",
              "      <td>1</td>\n",
              "      <td>85</td>\n",
              "      <td>66</td>\n",
              "      <td>29</td>\n",
              "      <td>0</td>\n",
              "      <td>26.6</td>\n",
              "      <td>0.351</td>\n",
              "      <td>31</td>\n",
              "      <td>0</td>\n",
              "    </tr>\n",
              "    <tr>\n",
              "      <th>2</th>\n",
              "      <td>8</td>\n",
              "      <td>183</td>\n",
              "      <td>64</td>\n",
              "      <td>0</td>\n",
              "      <td>0</td>\n",
              "      <td>23.3</td>\n",
              "      <td>0.672</td>\n",
              "      <td>32</td>\n",
              "      <td>1</td>\n",
              "    </tr>\n",
              "    <tr>\n",
              "      <th>3</th>\n",
              "      <td>1</td>\n",
              "      <td>89</td>\n",
              "      <td>66</td>\n",
              "      <td>23</td>\n",
              "      <td>94</td>\n",
              "      <td>28.1</td>\n",
              "      <td>0.167</td>\n",
              "      <td>21</td>\n",
              "      <td>0</td>\n",
              "    </tr>\n",
              "    <tr>\n",
              "      <th>4</th>\n",
              "      <td>0</td>\n",
              "      <td>137</td>\n",
              "      <td>40</td>\n",
              "      <td>35</td>\n",
              "      <td>168</td>\n",
              "      <td>43.1</td>\n",
              "      <td>2.288</td>\n",
              "      <td>33</td>\n",
              "      <td>1</td>\n",
              "    </tr>\n",
              "  </tbody>\n",
              "</table>\n",
              "</div>"
            ],
            "text/plain": [
              "   Pregnancies  Glucose  BloodPressure  SkinThickness  Insulin   BMI  \\\n",
              "0            6      148             72             35        0  33.6   \n",
              "1            1       85             66             29        0  26.6   \n",
              "2            8      183             64              0        0  23.3   \n",
              "3            1       89             66             23       94  28.1   \n",
              "4            0      137             40             35      168  43.1   \n",
              "\n",
              "   DiabetesPedigreeFunction  Age  Outcome  \n",
              "0                     0.627   50        1  \n",
              "1                     0.351   31        0  \n",
              "2                     0.672   32        1  \n",
              "3                     0.167   21        0  \n",
              "4                     2.288   33        1  "
            ]
          },
          "execution_count": 1,
          "metadata": {},
          "output_type": "execute_result"
        }
      ],
      "source": [
        "import pandas as pd\n",
        "\n",
        "df = pd.read_csv(\"./data/diabetes.csv\")\n",
        "\n",
        "df.head()"
      ]
    },
    {
      "cell_type": "code",
      "execution_count": 2,
      "metadata": {},
      "outputs": [
        {
          "data": {
            "text/html": [
              "<div>\n",
              "<style scoped>\n",
              "    .dataframe tbody tr th:only-of-type {\n",
              "        vertical-align: middle;\n",
              "    }\n",
              "\n",
              "    .dataframe tbody tr th {\n",
              "        vertical-align: top;\n",
              "    }\n",
              "\n",
              "    .dataframe thead th {\n",
              "        text-align: right;\n",
              "    }\n",
              "</style>\n",
              "<table border=\"1\" class=\"dataframe\">\n",
              "  <thead>\n",
              "    <tr style=\"text-align: right;\">\n",
              "      <th></th>\n",
              "      <th>Pregnancies</th>\n",
              "      <th>Glucose</th>\n",
              "      <th>BloodPressure</th>\n",
              "      <th>SkinThickness</th>\n",
              "      <th>Insulin</th>\n",
              "      <th>BMI</th>\n",
              "      <th>DiabetesPedigreeFunction</th>\n",
              "      <th>Age</th>\n",
              "      <th>Outcome</th>\n",
              "    </tr>\n",
              "  </thead>\n",
              "  <tbody>\n",
              "    <tr>\n",
              "      <th>count</th>\n",
              "      <td>768.000000</td>\n",
              "      <td>768.000000</td>\n",
              "      <td>768.000000</td>\n",
              "      <td>768.000000</td>\n",
              "      <td>768.000000</td>\n",
              "      <td>768.000000</td>\n",
              "      <td>768.000000</td>\n",
              "      <td>768.000000</td>\n",
              "      <td>768.000000</td>\n",
              "    </tr>\n",
              "    <tr>\n",
              "      <th>mean</th>\n",
              "      <td>3.845052</td>\n",
              "      <td>120.894531</td>\n",
              "      <td>69.105469</td>\n",
              "      <td>20.536458</td>\n",
              "      <td>79.799479</td>\n",
              "      <td>31.992578</td>\n",
              "      <td>0.471876</td>\n",
              "      <td>33.240885</td>\n",
              "      <td>0.348958</td>\n",
              "    </tr>\n",
              "    <tr>\n",
              "      <th>std</th>\n",
              "      <td>3.369578</td>\n",
              "      <td>31.972618</td>\n",
              "      <td>19.355807</td>\n",
              "      <td>15.952218</td>\n",
              "      <td>115.244002</td>\n",
              "      <td>7.884160</td>\n",
              "      <td>0.331329</td>\n",
              "      <td>11.760232</td>\n",
              "      <td>0.476951</td>\n",
              "    </tr>\n",
              "    <tr>\n",
              "      <th>min</th>\n",
              "      <td>0.000000</td>\n",
              "      <td>0.000000</td>\n",
              "      <td>0.000000</td>\n",
              "      <td>0.000000</td>\n",
              "      <td>0.000000</td>\n",
              "      <td>0.000000</td>\n",
              "      <td>0.078000</td>\n",
              "      <td>21.000000</td>\n",
              "      <td>0.000000</td>\n",
              "    </tr>\n",
              "    <tr>\n",
              "      <th>25%</th>\n",
              "      <td>1.000000</td>\n",
              "      <td>99.000000</td>\n",
              "      <td>62.000000</td>\n",
              "      <td>0.000000</td>\n",
              "      <td>0.000000</td>\n",
              "      <td>27.300000</td>\n",
              "      <td>0.243750</td>\n",
              "      <td>24.000000</td>\n",
              "      <td>0.000000</td>\n",
              "    </tr>\n",
              "    <tr>\n",
              "      <th>50%</th>\n",
              "      <td>3.000000</td>\n",
              "      <td>117.000000</td>\n",
              "      <td>72.000000</td>\n",
              "      <td>23.000000</td>\n",
              "      <td>30.500000</td>\n",
              "      <td>32.000000</td>\n",
              "      <td>0.372500</td>\n",
              "      <td>29.000000</td>\n",
              "      <td>0.000000</td>\n",
              "    </tr>\n",
              "    <tr>\n",
              "      <th>75%</th>\n",
              "      <td>6.000000</td>\n",
              "      <td>140.250000</td>\n",
              "      <td>80.000000</td>\n",
              "      <td>32.000000</td>\n",
              "      <td>127.250000</td>\n",
              "      <td>36.600000</td>\n",
              "      <td>0.626250</td>\n",
              "      <td>41.000000</td>\n",
              "      <td>1.000000</td>\n",
              "    </tr>\n",
              "    <tr>\n",
              "      <th>max</th>\n",
              "      <td>17.000000</td>\n",
              "      <td>199.000000</td>\n",
              "      <td>122.000000</td>\n",
              "      <td>99.000000</td>\n",
              "      <td>846.000000</td>\n",
              "      <td>67.100000</td>\n",
              "      <td>2.420000</td>\n",
              "      <td>81.000000</td>\n",
              "      <td>1.000000</td>\n",
              "    </tr>\n",
              "  </tbody>\n",
              "</table>\n",
              "</div>"
            ],
            "text/plain": [
              "       Pregnancies     Glucose  BloodPressure  SkinThickness     Insulin  \\\n",
              "count   768.000000  768.000000     768.000000     768.000000  768.000000   \n",
              "mean      3.845052  120.894531      69.105469      20.536458   79.799479   \n",
              "std       3.369578   31.972618      19.355807      15.952218  115.244002   \n",
              "min       0.000000    0.000000       0.000000       0.000000    0.000000   \n",
              "25%       1.000000   99.000000      62.000000       0.000000    0.000000   \n",
              "50%       3.000000  117.000000      72.000000      23.000000   30.500000   \n",
              "75%       6.000000  140.250000      80.000000      32.000000  127.250000   \n",
              "max      17.000000  199.000000     122.000000      99.000000  846.000000   \n",
              "\n",
              "              BMI  DiabetesPedigreeFunction         Age     Outcome  \n",
              "count  768.000000                768.000000  768.000000  768.000000  \n",
              "mean    31.992578                  0.471876   33.240885    0.348958  \n",
              "std      7.884160                  0.331329   11.760232    0.476951  \n",
              "min      0.000000                  0.078000   21.000000    0.000000  \n",
              "25%     27.300000                  0.243750   24.000000    0.000000  \n",
              "50%     32.000000                  0.372500   29.000000    0.000000  \n",
              "75%     36.600000                  0.626250   41.000000    1.000000  \n",
              "max     67.100000                  2.420000   81.000000    1.000000  "
            ]
          },
          "execution_count": 2,
          "metadata": {},
          "output_type": "execute_result"
        }
      ],
      "source": [
        "df.describe()"
      ]
    },
    {
      "cell_type": "code",
      "execution_count": 3,
      "metadata": {},
      "outputs": [
        {
          "name": "stdout",
          "output_type": "stream",
          "text": [
            "<class 'pandas.core.frame.DataFrame'>\n",
            "RangeIndex: 768 entries, 0 to 767\n",
            "Data columns (total 9 columns):\n",
            " #   Column                    Non-Null Count  Dtype  \n",
            "---  ------                    --------------  -----  \n",
            " 0   Pregnancies               768 non-null    int64  \n",
            " 1   Glucose                   768 non-null    int64  \n",
            " 2   BloodPressure             768 non-null    int64  \n",
            " 3   SkinThickness             768 non-null    int64  \n",
            " 4   Insulin                   768 non-null    int64  \n",
            " 5   BMI                       768 non-null    float64\n",
            " 6   DiabetesPedigreeFunction  768 non-null    float64\n",
            " 7   Age                       768 non-null    int64  \n",
            " 8   Outcome                   768 non-null    int64  \n",
            "dtypes: float64(2), int64(7)\n",
            "memory usage: 54.1 KB\n"
          ]
        }
      ],
      "source": [
        "df.info()"
      ]
    },
    {
      "cell_type": "markdown",
      "metadata": {
        "id": "6IBqtnmtJPIF"
      },
      "source": [
        "Identifique y comente sobre las características de la variable objetivo (target) que sean relevantes para el problema. ¿Que puede decir acerca de la distribución de las clases?, ¿Están balanceadas? Explique usando gráficos que le parezcan pertinentes para representar el balance de clases. \n",
        "\n"
      ]
    },
    {
      "cell_type": "code",
      "execution_count": 4,
      "metadata": {},
      "outputs": [
        {
          "data": {
            "text/plain": [
              "<AxesSubplot: xlabel='Outcome', ylabel='count'>"
            ]
          },
          "execution_count": 4,
          "metadata": {},
          "output_type": "execute_result"
        },
        {
          "data": {
            "image/png": "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",
            "text/plain": [
              "<Figure size 640x480 with 1 Axes>"
            ]
          },
          "metadata": {},
          "output_type": "display_data"
        }
      ],
      "source": [
        "import matplotlib.pyplot as plt\n",
        "import seaborn as sns  \n",
        "\n",
        "sns.countplot(data=df, x='Outcome')"
      ]
    },
    {
      "cell_type": "markdown",
      "metadata": {},
      "source": [
        "Creemos que esta forma de vizualizar la información nos da una buena forma de las proporciones, pero creemos que la podemos mejorar, por lo que construimos un grafico de torta."
      ]
    },
    {
      "cell_type": "code",
      "execution_count": 16,
      "metadata": {},
      "outputs": [
        {
          "data": {
            "image/png": "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",
            "text/plain": [
              "<Figure size 700x700 with 1 Axes>"
            ]
          },
          "metadata": {},
          "output_type": "display_data"
        }
      ],
      "source": [
        "many = list(df.groupby(by = \"Outcome\").count()[\"Pregnancies\"])\n",
        "labels = df.groupby(by = \"Outcome\").count().index.tolist()\n",
        "plt.figure(figsize = (7, 7))\n",
        "plt.pie(many, labels = labels, autopct='%0.0001f%%')\n",
        "plt.title(\"Análisis target\", fontweight=\"bold\")\n",
        "plt.show()"
      ]
    },
    {
      "cell_type": "markdown",
      "metadata": {},
      "source": [
        "Podemos ver que el target se distribuye entre dos tercios con 0 y un tercio con 1, con lo que vemos que el Output es una variable que cuenta con un buen balance."
      ]
    },
    {
      "cell_type": "code",
      "execution_count": 50,
      "metadata": {},
      "outputs": [
        {
          "data": {
            "text/plain": [
              "(array([246., 178., 125.,  50.,  83.,  52.,  11.,  19.,   3.,   1.]),\n",
              " array([ 0. ,  1.7,  3.4,  5.1,  6.8,  8.5, 10.2, 11.9, 13.6, 15.3, 17. ]),\n",
              " <BarContainer object of 10 artists>)"
            ]
          },
          "execution_count": 50,
          "metadata": {},
          "output_type": "execute_result"
        },
        {
          "data": {
            "image/png": "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",
            "text/plain": [
              "<Figure size 640x480 with 1 Axes>"
            ]
          },
          "metadata": {},
          "output_type": "display_data"
        }
      ],
      "source": [
        "plt.Figure(figsize=(7,7))\n",
        "plt.hist(x=df[\"Pregnancies\"])"
      ]
    },
    {
      "cell_type": "code",
      "execution_count": null,
      "metadata": {},
      "outputs": [],
      "source": [
        "X_cols = ['Pregnancies', 'Glucose', 'BloodPressure', 'SkinThickness', 'Insulin',\n",
        "       'BMI', 'DiabetesPedigreeFunction', 'Age']\n",
        "\n",
        "pd.melt(df.reset_index()[df['Outcome'] != 0], id_vars = 'index' , var_name=\"features\", value_name='value')\n"
      ]
    },
    {
      "cell_type": "code",
      "execution_count": 7,
      "metadata": {},
      "outputs": [
        {
          "data": {
            "image/png": "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",
            "text/plain": [
              "<Figure size 700x600 with 1 Axes>"
            ]
          },
          "metadata": {},
          "output_type": "display_data"
        }
      ],
      "source": [
        "melted_df = pd.melt(df.reset_index(), id_vars = ['index', 'Outcome'] , var_name=\"features\", value_name='value')\n",
        "\n",
        "f, ax = plt.subplots(figsize=(7, 6))\n",
        "\n",
        "sns.boxplot(x=\"value\", y=\"features\", \n",
        "            hue=\"Outcome\", palette='RdBu',\n",
        "            data=melted_df)\n",
        "sns.despine(offset=10, trim=True)\n",
        "\n",
        "# Tweak the visual presentation\n",
        "ax.xaxis.grid(True)\n",
        "ax.set(ylabel=\"\")\n",
        "sns.despine(trim=True, left=True)"
      ]
    },
    {
      "cell_type": "code",
      "execution_count": 8,
      "metadata": {},
      "outputs": [
        {
          "data": {
            "image/png": "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",
            "text/plain": [
              "<Figure size 700x600 with 1 Axes>"
            ]
          },
          "metadata": {},
          "output_type": "display_data"
        }
      ],
      "source": [
        "melted_df = pd.melt((df.reset_index()-df.reset_index().mean())/df.reset_index().std(), id_vars = ['index', 'Outcome'] , var_name=\"features\", value_name='value')\n",
        "\n",
        "f, ax = plt.subplots(figsize=(7, 6))\n",
        "\n",
        "sns.boxplot(x=\"value\", y=\"features\", \n",
        "            hue=\"Outcome\", palette='RdBu',\n",
        "            data=melted_df)\n",
        "sns.despine(offset=10, trim=True)\n",
        "\n",
        "# Tweak the visual presentation\n",
        "ax.xaxis.grid(True)\n",
        "ax.set(ylabel=\"\")\n",
        "sns.despine(trim=True, left=True)"
      ]
    },
    {
      "cell_type": "markdown",
      "metadata": {
        "id": "5ihfw0xsPLW1"
      },
      "source": [
        "¿Qué puede observar de los datos, tiene sentido que algunos valores de ciertas variables predictoras tengan valor 0?, \n",
        "\n",
        "Identifique cuales son las columnas con datos faltantes que fueron imputadas con el valor 0. ¿Tiene sentido estos atributos tengan valores 0? Investigue el rango de valores que puede tomar cada atributo en el dataset, y comente sus principales características."
      ]
    },
    {
      "cell_type": "markdown",
      "metadata": {
        "id": "YXqGF7raZTLo"
      },
      "source": [
        "## 1.b Train Test Split\n",
        "\n",
        "En esta pregunta nos ocuparemos de separar el dataset en los conjuntos de entrenamiento, validación y test y estandarizar los datos. Para esto puede utilizar la librería sklearn, en particular la función `train_test_split`. Para esto separe primero el dataset en  $X$  e  $Y$. Luego separe los datos considerando un  70%  de ellos para entrenamiento, un  20%  para validación y un  10%  para test. ¿Qué estamos tratando de representar en esta separación en conjuntos de entrenamiento, validación y test?"
      ]
    },
    {
      "cell_type": "code",
      "execution_count": 9,
      "metadata": {
        "id": "ii8CDG9OJzYy"
      },
      "outputs": [],
      "source": [
        "from sklearn.model_selection import train_test_split\n",
        "\n",
        "# . . . \n",
        "\n",
        "X = df.drop(columns=['Outcome'])\n",
        "y = df.Outcome\n",
        "\n",
        "X_train, X_test, y_train, y_test = train_test_split(X, y, test_size=0.1, random_state=42)\n",
        "\n",
        "X_train, X_val, y_train, y_val = train_test_split(X_train, y_train, test_size=0.1, random_state=42)\n",
        "\n",
        "# . . ."
      ]
    },
    {
      "cell_type": "markdown",
      "metadata": {
        "id": "GdEoLMJ1c38a"
      },
      "source": [
        "## 1.c Valores faltantes e imputación\n",
        "\n",
        "Tomando en cuenta solamente el conjunto de entrenamiento, considere los valores imputados con 0 que encontró en la pregunta 1.a y reemplacelos por `NaN`, para esto utilice el método `replace`. Cuente cuantos datos faltantes hay por cada atributo y grafíque. Cree 3 conjuntos de entrenamiento nuevos a partir del resultado de reemplazar con `NaN`:\n",
        "\n",
        "1.   Conserve el conjunto de entrenamiento original intacto: $X_o$\n",
        "2.   Reemplace los valores faltantes de cada columna por la media de estos: $X_1$\n",
        "3.   Reemplace los valores faltantes de cada columna por la mediana de estos: $X_2$\n",
        "4.   Reemplace los valores faltantes de cada columna utilizando el método MICE [1][2]: $X_3$\n",
        "\n",
        "Responda las siguientes preguntas:\n",
        "\n",
        "*   ¿Qué es la imputación de datos?\n",
        "*   ¿Cuáles son las ventajas y desventajas de los 3 métodos recién utilizados versus sin imputar ($X_o$)?\n",
        "*   ¿Qué se necesita para ejecutar cada uno de los 3 métodos de imputación de datos?\n",
        "*   ¿Qué puede decir de los conjuntos resultantes?¿Resuelven el problema de los datos faltantes?\n",
        "\n",
        "\n",
        "\n",
        "\n",
        "\n",
        "[1] https://citeseerx.ist.psu.edu/viewdoc/download?doi=10.1.1.169.5745&rep=rep1&type=pdf\n",
        "\n",
        "[2] https://scikit-learn.org/stable/modules/generated/sklearn.impute.IterativeImputer.html?highlight=mice\n",
        "\n",
        "\n"
      ]
    },
    {
      "cell_type": "code",
      "execution_count": 10,
      "metadata": {
        "id": "4MCLuHEzhEHI"
      },
      "outputs": [],
      "source": [
        "import numpy as np\n",
        "from sklearn.experimental import enable_iterative_imputer\n",
        "from sklearn.impute import IterativeImputer\n",
        "from sklearn.impute import SimpleImputer\n",
        "\n",
        "\n",
        "\n",
        "X0 = X_train.copy()\n",
        "X0_val = X_val.copy()\n",
        "X0_test = X_test.copy()\n",
        "\n",
        "X_train[['Glucose','BloodPressure','SkinThickness','Insulin','BMI']] = X_train[['Glucose',\n",
        "'BloodPressure','SkinThickness','Insulin','BMI']].replace(0,np.NaN)\n",
        "\n",
        "imp_mean = SimpleImputer(missing_values=np.nan, strategy='mean')\n",
        "imp_mean.fit(X_train)\n",
        "X1 = imp_mean.transform(X_train)\n",
        "X1_test = imp_mean.transform(X_test)\n",
        "X1_val = imp_mean.transform(X_val)\n",
        "\n",
        "imp_median = SimpleImputer(missing_values=np.nan, strategy='median')\n",
        "imp_median.fit(X_train)\n",
        "X2 = imp_median.transform(X_train)\n",
        "X2_test = imp_median.transform(X_test)\n",
        "X2_val = imp_median.transform(X_val)\n",
        "\n",
        "imp_mean = IterativeImputer(random_state=0)\n",
        "imp_mean.fit(X_train)\n",
        "X3 = imp_mean.transform(X_train)\n",
        "X3_test = imp_mean.transform(X_test)\n",
        "X3_val = imp_mean.transform(X_val)\n",
        "# . . . \n",
        "\n"
      ]
    },
    {
<<<<<<< HEAD
      "cell_type": "code",
      "execution_count": 11,
      "metadata": {},
      "outputs": [
        {
          "data": {
            "text/html": [
              "<div>\n",
              "<style scoped>\n",
              "    .dataframe tbody tr th:only-of-type {\n",
              "        vertical-align: middle;\n",
              "    }\n",
              "\n",
              "    .dataframe tbody tr th {\n",
              "        vertical-align: top;\n",
              "    }\n",
              "\n",
              "    .dataframe thead th {\n",
              "        text-align: right;\n",
              "    }\n",
              "</style>\n",
              "<table border=\"1\" class=\"dataframe\">\n",
              "  <thead>\n",
              "    <tr style=\"text-align: right;\">\n",
              "      <th></th>\n",
              "      <th>Pregnancies</th>\n",
              "      <th>Glucose</th>\n",
              "      <th>BloodPressure</th>\n",
              "      <th>SkinThickness</th>\n",
              "      <th>Insulin</th>\n",
              "      <th>BMI</th>\n",
              "      <th>DiabetesPedigreeFunction</th>\n",
              "      <th>Age</th>\n",
              "    </tr>\n",
              "  </thead>\n",
              "  <tbody>\n",
              "    <tr>\n",
              "      <th>446</th>\n",
              "      <td>True</td>\n",
              "      <td>True</td>\n",
              "      <td>True</td>\n",
              "      <td>True</td>\n",
              "      <td>True</td>\n",
              "      <td>True</td>\n",
              "      <td>True</td>\n",
              "      <td>True</td>\n",
              "    </tr>\n",
              "    <tr>\n",
              "      <th>10</th>\n",
              "      <td>True</td>\n",
              "      <td>True</td>\n",
              "      <td>True</td>\n",
              "      <td>False</td>\n",
              "      <td>False</td>\n",
              "      <td>True</td>\n",
              "      <td>True</td>\n",
              "      <td>True</td>\n",
              "    </tr>\n",
              "    <tr>\n",
              "      <th>317</th>\n",
              "      <td>True</td>\n",
              "      <td>True</td>\n",
              "      <td>True</td>\n",
              "      <td>False</td>\n",
              "      <td>False</td>\n",
              "      <td>True</td>\n",
              "      <td>True</td>\n",
              "      <td>True</td>\n",
              "    </tr>\n",
              "    <tr>\n",
              "      <th>231</th>\n",
              "      <td>True</td>\n",
              "      <td>True</td>\n",
              "      <td>True</td>\n",
              "      <td>True</td>\n",
              "      <td>True</td>\n",
              "      <td>True</td>\n",
              "      <td>True</td>\n",
              "      <td>True</td>\n",
              "    </tr>\n",
              "    <tr>\n",
              "      <th>337</th>\n",
              "      <td>True</td>\n",
              "      <td>True</td>\n",
              "      <td>True</td>\n",
              "      <td>False</td>\n",
              "      <td>False</td>\n",
              "      <td>True</td>\n",
              "      <td>True</td>\n",
              "      <td>True</td>\n",
              "    </tr>\n",
              "    <tr>\n",
              "      <th>...</th>\n",
              "      <td>...</td>\n",
              "      <td>...</td>\n",
              "      <td>...</td>\n",
              "      <td>...</td>\n",
              "      <td>...</td>\n",
              "      <td>...</td>\n",
              "      <td>...</td>\n",
              "      <td>...</td>\n",
              "    </tr>\n",
              "    <tr>\n",
              "      <th>725</th>\n",
              "      <td>True</td>\n",
              "      <td>True</td>\n",
              "      <td>True</td>\n",
              "      <td>True</td>\n",
              "      <td>False</td>\n",
              "      <td>True</td>\n",
              "      <td>True</td>\n",
              "      <td>True</td>\n",
              "    </tr>\n",
              "    <tr>\n",
              "      <th>746</th>\n",
              "      <td>True</td>\n",
              "      <td>True</td>\n",
              "      <td>True</td>\n",
              "      <td>True</td>\n",
              "      <td>False</td>\n",
              "      <td>True</td>\n",
              "      <td>True</td>\n",
              "      <td>True</td>\n",
              "    </tr>\n",
              "    <tr>\n",
              "      <th>672</th>\n",
              "      <td>True</td>\n",
              "      <td>True</td>\n",
              "      <td>True</td>\n",
              "      <td>True</td>\n",
              "      <td>True</td>\n",
              "      <td>True</td>\n",
              "      <td>True</td>\n",
              "      <td>True</td>\n",
              "    </tr>\n",
              "    <tr>\n",
              "      <th>657</th>\n",
              "      <td>True</td>\n",
              "      <td>True</td>\n",
              "      <td>True</td>\n",
              "      <td>True</td>\n",
              "      <td>True</td>\n",
              "      <td>True</td>\n",
              "      <td>True</td>\n",
              "      <td>True</td>\n",
              "    </tr>\n",
              "    <tr>\n",
              "      <th>164</th>\n",
              "      <td>True</td>\n",
              "      <td>True</td>\n",
              "      <td>True</td>\n",
              "      <td>False</td>\n",
              "      <td>False</td>\n",
              "      <td>True</td>\n",
              "      <td>True</td>\n",
              "      <td>True</td>\n",
              "    </tr>\n",
              "  </tbody>\n",
              "</table>\n",
              "<p>621 rows × 8 columns</p>\n",
              "</div>"
            ],
            "text/plain": [
              "     Pregnancies  Glucose  BloodPressure  SkinThickness  Insulin   BMI  \\\n",
              "446         True     True           True           True     True  True   \n",
              "10          True     True           True          False    False  True   \n",
              "317         True     True           True          False    False  True   \n",
              "231         True     True           True           True     True  True   \n",
              "337         True     True           True          False    False  True   \n",
              "..           ...      ...            ...            ...      ...   ...   \n",
              "725         True     True           True           True    False  True   \n",
              "746         True     True           True           True    False  True   \n",
              "672         True     True           True           True     True  True   \n",
              "657         True     True           True           True     True  True   \n",
              "164         True     True           True          False    False  True   \n",
              "\n",
              "     DiabetesPedigreeFunction   Age  \n",
              "446                      True  True  \n",
              "10                       True  True  \n",
              "317                      True  True  \n",
              "231                      True  True  \n",
              "337                      True  True  \n",
              "..                        ...   ...  \n",
              "725                      True  True  \n",
              "746                      True  True  \n",
              "672                      True  True  \n",
              "657                      True  True  \n",
              "164                      True  True  \n",
              "\n",
              "[621 rows x 8 columns]"
            ]
          },
          "execution_count": 11,
          "metadata": {},
          "output_type": "execute_result"
        }
      ],
      "source": [
        "X1 == X_train\n"
      ]
    },
    {
      "cell_type": "code",
      "execution_count": 12,
      "metadata": {},
      "outputs": [
        {
          "data": {
            "text/html": [
              "<div>\n",
              "<style scoped>\n",
              "    .dataframe tbody tr th:only-of-type {\n",
              "        vertical-align: middle;\n",
              "    }\n",
              "\n",
              "    .dataframe tbody tr th {\n",
              "        vertical-align: top;\n",
              "    }\n",
              "\n",
              "    .dataframe thead th {\n",
              "        text-align: right;\n",
              "    }\n",
              "</style>\n",
              "<table border=\"1\" class=\"dataframe\">\n",
              "  <thead>\n",
              "    <tr style=\"text-align: right;\">\n",
              "      <th></th>\n",
              "      <th>Pregnancies</th>\n",
              "      <th>Glucose</th>\n",
              "      <th>BloodPressure</th>\n",
              "      <th>SkinThickness</th>\n",
              "      <th>Insulin</th>\n",
              "      <th>BMI</th>\n",
              "      <th>DiabetesPedigreeFunction</th>\n",
              "      <th>Age</th>\n",
              "    </tr>\n",
              "  </thead>\n",
              "  <tbody>\n",
              "    <tr>\n",
              "      <th>446</th>\n",
              "      <td>1</td>\n",
              "      <td>100.0</td>\n",
              "      <td>72.0</td>\n",
              "      <td>12.0</td>\n",
              "      <td>70.0</td>\n",
              "      <td>25.3</td>\n",
              "      <td>0.658</td>\n",
              "      <td>28</td>\n",
              "    </tr>\n",
              "    <tr>\n",
              "      <th>10</th>\n",
              "      <td>4</td>\n",
              "      <td>110.0</td>\n",
              "      <td>92.0</td>\n",
              "      <td>NaN</td>\n",
              "      <td>NaN</td>\n",
              "      <td>37.6</td>\n",
              "      <td>0.191</td>\n",
              "      <td>30</td>\n",
              "    </tr>\n",
              "    <tr>\n",
              "      <th>317</th>\n",
              "      <td>3</td>\n",
              "      <td>182.0</td>\n",
              "      <td>74.0</td>\n",
              "      <td>NaN</td>\n",
              "      <td>NaN</td>\n",
              "      <td>30.5</td>\n",
              "      <td>0.345</td>\n",
              "      <td>29</td>\n",
              "    </tr>\n",
              "    <tr>\n",
              "      <th>231</th>\n",
              "      <td>6</td>\n",
              "      <td>134.0</td>\n",
              "      <td>80.0</td>\n",
              "      <td>37.0</td>\n",
              "      <td>370.0</td>\n",
              "      <td>46.2</td>\n",
              "      <td>0.238</td>\n",
              "      <td>46</td>\n",
              "    </tr>\n",
              "    <tr>\n",
              "      <th>337</th>\n",
              "      <td>5</td>\n",
              "      <td>115.0</td>\n",
              "      <td>76.0</td>\n",
              "      <td>NaN</td>\n",
              "      <td>NaN</td>\n",
              "      <td>31.2</td>\n",
              "      <td>0.343</td>\n",
              "      <td>44</td>\n",
              "    </tr>\n",
              "    <tr>\n",
              "      <th>...</th>\n",
              "      <td>...</td>\n",
              "      <td>...</td>\n",
              "      <td>...</td>\n",
              "      <td>...</td>\n",
              "      <td>...</td>\n",
              "      <td>...</td>\n",
              "      <td>...</td>\n",
              "      <td>...</td>\n",
              "    </tr>\n",
              "    <tr>\n",
              "      <th>725</th>\n",
              "      <td>4</td>\n",
              "      <td>112.0</td>\n",
              "      <td>78.0</td>\n",
              "      <td>40.0</td>\n",
              "      <td>NaN</td>\n",
              "      <td>39.4</td>\n",
              "      <td>0.236</td>\n",
              "      <td>38</td>\n",
              "    </tr>\n",
              "    <tr>\n",
              "      <th>746</th>\n",
              "      <td>1</td>\n",
              "      <td>147.0</td>\n",
              "      <td>94.0</td>\n",
              "      <td>41.0</td>\n",
              "      <td>NaN</td>\n",
              "      <td>49.3</td>\n",
              "      <td>0.358</td>\n",
              "      <td>27</td>\n",
              "    </tr>\n",
              "    <tr>\n",
              "      <th>672</th>\n",
              "      <td>10</td>\n",
              "      <td>68.0</td>\n",
              "      <td>106.0</td>\n",
              "      <td>23.0</td>\n",
              "      <td>49.0</td>\n",
              "      <td>35.5</td>\n",
              "      <td>0.285</td>\n",
              "      <td>47</td>\n",
              "    </tr>\n",
              "    <tr>\n",
              "      <th>657</th>\n",
              "      <td>1</td>\n",
              "      <td>120.0</td>\n",
              "      <td>80.0</td>\n",
              "      <td>48.0</td>\n",
              "      <td>200.0</td>\n",
              "      <td>38.9</td>\n",
              "      <td>1.162</td>\n",
              "      <td>41</td>\n",
              "    </tr>\n",
              "    <tr>\n",
              "      <th>164</th>\n",
              "      <td>0</td>\n",
              "      <td>131.0</td>\n",
              "      <td>88.0</td>\n",
              "      <td>NaN</td>\n",
              "      <td>NaN</td>\n",
              "      <td>31.6</td>\n",
              "      <td>0.743</td>\n",
              "      <td>32</td>\n",
              "    </tr>\n",
              "  </tbody>\n",
              "</table>\n",
              "<p>621 rows × 8 columns</p>\n",
              "</div>"
            ],
            "text/plain": [
              "     Pregnancies  Glucose  BloodPressure  SkinThickness  Insulin   BMI  \\\n",
              "446            1    100.0           72.0           12.0     70.0  25.3   \n",
              "10             4    110.0           92.0            NaN      NaN  37.6   \n",
              "317            3    182.0           74.0            NaN      NaN  30.5   \n",
              "231            6    134.0           80.0           37.0    370.0  46.2   \n",
              "337            5    115.0           76.0            NaN      NaN  31.2   \n",
              "..           ...      ...            ...            ...      ...   ...   \n",
              "725            4    112.0           78.0           40.0      NaN  39.4   \n",
              "746            1    147.0           94.0           41.0      NaN  49.3   \n",
              "672           10     68.0          106.0           23.0     49.0  35.5   \n",
              "657            1    120.0           80.0           48.0    200.0  38.9   \n",
              "164            0    131.0           88.0            NaN      NaN  31.6   \n",
              "\n",
              "     DiabetesPedigreeFunction  Age  \n",
              "446                     0.658   28  \n",
              "10                      0.191   30  \n",
              "317                     0.345   29  \n",
              "231                     0.238   46  \n",
              "337                     0.343   44  \n",
              "..                        ...  ...  \n",
              "725                     0.236   38  \n",
              "746                     0.358   27  \n",
              "672                     0.285   47  \n",
              "657                     1.162   41  \n",
              "164                     0.743   32  \n",
              "\n",
              "[621 rows x 8 columns]"
            ]
          },
          "execution_count": 12,
          "metadata": {},
          "output_type": "execute_result"
        }
      ],
      "source": [
        "X0"
      ]
    },
    {
=======
>>>>>>> a563e30721e3a1da73fbadacc5196bd40666ef58
      "cell_type": "markdown",
      "metadata": {
        "id": "IFrGNkhQlY8v"
      },
      "source": [
        "## 1.d Estandarización\n",
        "\n",
        "`Nota:` A menos que se indique explícitamente lo contrario, en esta y las siguientes preguntas realice los siguientes procedimientos y entrene las redes considerando como conjunto de entrenamiento cada $X \\in \\{X_o, X_1, X_2, X_3\\}$ obtenido en la imputación anterior y comente las diferencias que observa en los desempeños de sus redes.\n",
        "\n",
        "Ajuste los scalers con los datos de entrenamiento y transforme los datos para cada conjunto obtenido en la pregunta anterior.\n",
        "\n",
        "- ¿Qué operación matemática realiza `StandarScaler` al momento de tranformar los datos? \n",
        "- ¿Por qué debemos transformar los datos de validación y de test con el _scaler_ ajustado a los datos de entrenamiento? "
      ]
    },
    {
      "cell_type": "code",
      "execution_count": 13,
      "metadata": {
        "id": "3hcDWUA5le7u"
      },
      "outputs": [
        {
          "name": "stderr",
          "output_type": "stream",
          "text": [
            "c:\\Users\\TAZ\\miniconda3\\envs\\redes\\lib\\site-packages\\sklearn\\base.py:443: UserWarning: X has feature names, but StandardScaler was fitted without feature names\n",
            "  warnings.warn(\n",
            "c:\\Users\\TAZ\\miniconda3\\envs\\redes\\lib\\site-packages\\sklearn\\base.py:443: UserWarning: X has feature names, but StandardScaler was fitted without feature names\n",
            "  warnings.warn(\n",
            "c:\\Users\\TAZ\\miniconda3\\envs\\redes\\lib\\site-packages\\sklearn\\base.py:443: UserWarning: X has feature names, but StandardScaler was fitted without feature names\n",
            "  warnings.warn(\n",
            "c:\\Users\\TAZ\\miniconda3\\envs\\redes\\lib\\site-packages\\sklearn\\base.py:443: UserWarning: X has feature names, but StandardScaler was fitted without feature names\n",
            "  warnings.warn(\n",
            "c:\\Users\\TAZ\\miniconda3\\envs\\redes\\lib\\site-packages\\sklearn\\base.py:443: UserWarning: X has feature names, but StandardScaler was fitted without feature names\n",
            "  warnings.warn(\n",
            "c:\\Users\\TAZ\\miniconda3\\envs\\redes\\lib\\site-packages\\sklearn\\base.py:443: UserWarning: X has feature names, but StandardScaler was fitted without feature names\n",
            "  warnings.warn(\n",
            "c:\\Users\\TAZ\\miniconda3\\envs\\redes\\lib\\site-packages\\sklearn\\base.py:443: UserWarning: X has feature names, but StandardScaler was fitted without feature names\n",
            "  warnings.warn(\n",
            "c:\\Users\\TAZ\\miniconda3\\envs\\redes\\lib\\site-packages\\sklearn\\base.py:443: UserWarning: X has feature names, but StandardScaler was fitted without feature names\n",
            "  warnings.warn(\n"
          ]
        }
      ],
      "source": [
        "from sklearn.preprocessing import StandardScaler\n",
        "\n",
        "scaler_x0 = StandardScaler()\n",
        "scaler_x0.fit(X0)\n",
        "x_train_0 = scaler_x0.transform(X0)\n",
        "x_val_0 = scaler_x0.transform(X0_val)\n",
        "x_test_0 = scaler_x0.transform(X0_test)\n",
        "\n",
        "scaler_x1 = StandardScaler()\n",
        "scaler_x1.fit(X1)\n",
        "x_train_1 = scaler_x1.transform(X1)\n",
        "x_val_1 = scaler_x1.transform(X1_val)\n",
        "x_test_1 = scaler_x1.transform(X1_test)\n",
        "\n",
        "scaler_x2 = StandardScaler()\n",
        "scaler_x2.fit(X2)\n",
        "x_train_2 = scaler_x2.transform(X2)\n",
        "x_val_2 = scaler_x2.transform(X2_val)\n",
        "x_test_2 = scaler_x2.transform(X2_test)\n",
        "\n",
        "scaler_x3 = StandardScaler()\n",
        "scaler_x3.fit(X3)\n",
        "x_train_3 = scaler_x3.transform(X3)\n",
        "x_val_3 = scaler_x3.transform(X3_val)\n",
        "x_test_3 = scaler_x3.transform(X3_test)\n"
      ]
    },
    {
      "cell_type": "markdown",
      "metadata": {
        "id": "NXSQWk9Ovv-3"
      },
      "source": [
        "## 1.e Primera Red\n",
        "En esta pregunta construiremos y entrenaremos una primera red neuronal. Para esto utilizaremos la librería keras que se ocupa de crear, compilar y entrenar los modelos de manera simple. Keras se encargará por lo tanto de crear los modelos y al momento de compilarlos se instanciarán estos en una sesión de TensorFlow. \n",
        "\n",
        "Esta primera red será una red de una capa oculta con $256$ neuronas, activación ReLu. Para esta red y todas las demas utilizaremos la función de pérdida _Binary Cross Entropy_ ¿Porqué se ocupa esta función de pérdida?¿Qué función de activación se utiliza para la capa de salida en este tipo de problemas?¿Cuántas neuronas para la capa de salida?. Para entrenar esta primera red utilizaremos Gradiente Descendente Estocástico con un _Learn Rate_ de 0.002. Finalmente entrenaremos esta red por unas 20 _epochs_.\n",
        "\n",
        "Construya la red basandose en el siguiente código y en la documentación de keras. "
      ]
    },
    {
      "cell_type": "code",
      "execution_count": null,
      "metadata": {},
      "outputs": [],
      "source": [
        "from tensorflow import keras\n",
        "\n",
        "from keras.models import Sequential\n",
        "from keras.layers import Dense\n",
        "from keras.optimizers import SGD\n",
        "\n",
        "def build_model_1hl(n = 256, activation_func= 'relu', input_shape = 8, optimizer_func = SGD(learning_rate=0.002), loss_func= 'binary_crossentropy', metric_funcs = ['binary_accuracy']):\n",
        "    model = Sequential()\n",
        "    model.add(keras.Input(shape=(input_shape,)))\n",
        "    model.add(Dense(n, activation=activation_func))\n",
        "    model.add(Dense(1, activation='sigmoid'))\n",
        "    model.compile(loss=loss_func, optimizer=optimizer_func, metrics=metric_funcs)\n",
        "    return model\n",
        "\n",
        "test = build_model_1hl()\t"
      ]
    },
    {
      "cell_type": "markdown",
      "metadata": {
        "id": "qIyGBE4xMFis"
      },
      "source": [
        "Utilice el método `.summary` para ver el número de parámetros de su red y los tamaños de cada capa. \n",
        "\n",
        "Explique el número de parámetros presentes en esta red, es decir: ¿Cómo a partir de la dimensión del _Input_ y el número de neuronas obtenemos ese número de parámetros?"
      ]
    },
    {
      "cell_type": "code",
      "execution_count": null,
      "metadata": {
        "id": "obOh3pHuPQ5g"
      },
      "outputs": [],
      "source": [
        "test.summary()"
      ]
    },
    {
      "cell_type": "markdown",
      "metadata": {
        "id": "XCB8gKjyPVQo"
      },
      "source": [
        "Entrene la red por 20 _epochs_, guardando el `history` que retorna el metodo `.fit`.\n",
        "\n",
        "Grafique como varian los errores de validación y de entrenamiento a lo largo de las _epochs_. Comente."
      ]
    },
    {
      "cell_type": "code",
      "execution_count": null,
      "metadata": {
        "id": "DlvwIPWOPaHu"
      },
      "outputs": [],
      "source": [
        "x_train_0"
      ]
    },
    {
      "cell_type": "code",
      "execution_count": null,
      "metadata": {},
      "outputs": [],
      "source": [
        "history = test.fit(x_train_0\n",
        "                  , y_train\n",
        "                  , epochs=20\n",
        "                  , validation_data=(x_val_0,y_val)\n",
        "                  )\n",
        "                  \n",
        "print(history.history.keys())\n",
        "plt.plot(history.history['binary_accuracy'])\n",
        "plt.plot(history.history['val_accuracy'])\n",
        "plt.title('model accuracy')\n",
        "plt.ylabel('accuracy')\n",
        "plt.xlabel('epoch')\n",
        "plt.legend(['train', 'val'], loc='upper left')\n",
        "plt.show()"
      ]
    },
    {
      "cell_type": "markdown",
      "metadata": {
        "id": "wzf2YikAPgMz"
      },
      "source": [
        "Cree y entrene nuevamente la red, esta vez cambiando el _learn rate_ utilizado para el SGD. Pruebe a lo menos un valor mayor y un valor menor al elegido anteriormente. Note que para valores mayores al propuesto puede comenzar a observar fenómeno de divergencia, por lo cual es recomendable agregarle a la red un _callback_, es decir una función que verifica estados y comportamientos de la red mientras se entrena, en particular `TerminateOnNaN`, el cual interrumpirá el proceso de entrenamiento si encuentra un valor NaN. \n",
        "\n",
        "Grafique el comportamiento de los errores de validación y entrenamiento y comente."
      ]
    },
    {
      "cell_type": "code",
      "execution_count": null,
      "metadata": {
        "id": "URWA5gkkQJr-"
      },
      "outputs": [],
      "source": [
        "from keras.callbacks import TerminateOnNaN\n",
        "\n",
        "# . . . \n",
        "\n",
        "history = ANN.fit( # . . .\n",
        "         callbacks=[TerminateOnNaN]\n",
        "    )"
      ]
    },
    {
      "cell_type": "markdown",
      "metadata": {
        "id": "QXYySJsrQcOV"
      },
      "source": [
        "## 1.f Activación y regularizadores $l1$ $l2$\n",
        "En esta pregunta se les propone explorar distintas funciones de activación y de regularización. En ambos casos debe entrenar la misma red entrenada anteriormente utilizando gradiente descendente estocástico con algun _learn rate_ que le parezca adecuado luego de la exploración en la pregunta anterior. \n",
        "\n",
        "* Para explorar distintas funciones de activación, cambie la activación de la capa oculta sucesivamente por: tangente hiperbólica, _Leaky ReLu_, sigmoidea y lineal. Para esto puede basarse en el código presentado abajo y la documentación de keras. Para la activación _Leaky ReLu_ pruebe cambiar el parámetro de la red. Describa sus resultados y si observa diferencias entre las redes. \n",
        "\n",
        "* Seleccione la función de activación que mejor resultados le dió y agregue regularización $l1$ a la capa oculta, luego pruebe con $l2$. Pruebe cambiar la tasa de regularización, reportando sus resultados. ¿Qué ocurre si la regularización es muy alta o muy baja? Una vez satisfecho con una tasa de regularización, aplique la regularización a la capa de salida y luego a ambas capas. \n",
        "\n",
        "¿Para qué se usan activaciones no lineales? ¿Le parece buena opción la activación sigmoidea para la capa oculta?\n",
        "\n",
        "¿Cual es la intención de la regularización en general? En particular, ¿Que restricción implicita imponen las regularizaciones $l$1 o $l$2 sobre los pesos de la capa en la cual se aplican? Apoyese de ecuaciones."
      ]
    },
    {
      "cell_type": "code",
      "execution_count": null,
      "metadata": {
        "id": "LzaQJtDCU53D"
      },
      "outputs": [],
      "source": [
        "# activations\n",
        "from keras.layers import LeakyReLU\n",
        "model.add(Dense( # . . . ))\n",
        "model.add(LeakyReLU())\n",
        "    \n",
        "# regularizer\n",
        "from keras.regularizers import l1, l2\n",
        "model.add(\n",
        "    Dense( # . . .\n",
        "          activity_regularizer=l2(0.001)\n",
        "         )\n",
        ")"
      ]
    },
    {
      "cell_type": "markdown",
      "metadata": {
        "id": "dRg9SupLVBO0"
      },
      "source": [
        "## 1.g Exploración del Número de neuronas\n",
        "\n",
        "Ahora probaremos cambiando el número de neuronas en la capa oculta. Para esto, entrene la red con los hiperparámetros que estimen conveniente luego de la pregunta anterior, variando el numero de neuronas. Deben explorar a lo menos 10 número de neuronas distintos. Una recomendación sería por ejemplo explorar numero de neuronas en potencias de 2. \n",
        "\n",
        "Para cada red entrenada, recuperen el mejor error de validación y el error de entrenamiento en la _epoch_ donde se obtuvo tal error de validación. Grafique como se comportan ambos errores a medida crece el número de neuronas y comente. "
      ]
    },
    {
      "cell_type": "code",
      "execution_count": null,
      "metadata": {
        "id": "FJV-oySgVPLt"
      },
      "outputs": [],
      "source": [
        "import numpy as np\n",
        "\n",
        "train_error, val_error = [], []\n",
        "\n",
        "for n_units in [2**(k), 2**(k+1), 2**(k+2), ..., 2**(k+9)]\n",
        "    \n",
        "    # do model \n",
        "    \n",
        "    # train model \n",
        "    \n",
        "    val_error = min(history.history['val_loss'])\n",
        "    train_error = history.history['loss'][np.argmin(history.history['val_loss'])] \n",
        "    # for instance\n",
        "    \n",
        "# . . . ."
      ]
    },
    {
      "cell_type": "markdown",
      "metadata": {
        "id": "vlrljePYWqvt"
      },
      "source": [
        "## 1.h Dropout\n",
        "Como seguramente constataron en la pregunta anterior, un numero demasiado grande de parámetros en el modelo puede llevarnos a observar el fenomeno de _overfitting_. Una aproximación a este fenómeno que ha dado excelente resultado en redes neuronales es el método _dropout_, donde estocásticamente se desactivan una fracción de las neuronas al momento del entrenamiento, así efectivamente reduciendo el tamaño del modelo que se entrena en cada iteración e implicitamente obteniendo modelos más robustos por el simple hecho que al momento de entrenar nunca se entrena el \"mismo\" modelo. \n",
        "\n",
        "Según lo aprendido en el ramo, ¿en qué consiste el fenómeno de _overfitting_? ¿Por qué modelos más grandes suelen presentar el fenómeno? \n",
        "\n",
        "Entrene la mejor red obtenida en la pregunta anterior agregando una capa de _Dropout_ con parámetro $0.5$ inmediatamente luego de la capa oculta. Repita luego el proceso con una red con el doble de neuronas. Note que el agregar una capa _dropout_ hará que la red entrene más lento, por lo cual es recomendable aumentar el numero de _epochs_ para entrenar la red a completitud. \n",
        "\n",
        "¿Qué observa al agregar _dropout_? Comente y compare con sus resultados anteriores. "
      ]
    },
    {
      "cell_type": "code",
      "execution_count": null,
      "metadata": {
        "id": "w1CvZEViWrT-"
      },
      "outputs": [],
      "source": [
        "from keras.layers import Dropout\n",
        "\n",
        "# . . . \n",
        "\n",
        "model.add(Dropout(0.5))\n",
        "\n",
        "# . . ."
      ]
    },
    {
      "cell_type": "markdown",
      "metadata": {
        "id": "LiZNtjhfW-gF"
      },
      "source": [
        "## 1.i Learning Rate Decay\n",
        "Ahora entrenaremos un modelo manejando manualmente el _learn rate_. Para esto utilizaremos el _callback_ `LearningRateScheduler`. Este _callback_ nos permitirá implementar una función que maneje el _learn rate_ de nuestro modelo. \n",
        "\n",
        "Escriba una función que reciba la epoca actual y retorne un _learn rate_ lr. El lr inicial debe ser igual o mayor a alguno que haya dado buenos resultados en las preguntas anteriores. La función debe dividir por 2 el lr cada 10 _epochs_. Además ponga como restricción que el lr no debe ser menor a $5\\times 10^{-5}$, es decir si el valor obtenido es menor a  $5\\times 10^{-5}$, la función retorna  $5\\times 10^{-5}$.\n",
        "\n",
        "Entrene su red preferida de las preguntas anteriores con esta modificación, grafique los errores a lo largo del entrenamiento y comente. Según lo visto en el ramo, ¿por qué podría ser util disminuir el _learn rate_ a medida se avanza en el aprendizaje de la red?"
      ]
    },
    {
      "cell_type": "code",
      "execution_count": null,
      "metadata": {
        "id": "O-lO6ZS4XPT1"
      },
      "outputs": [],
      "source": [
        "from keras.callbacks import LearningRateScheduler\n",
        "\n",
        "def step_decay(epoch):\n",
        "    \n",
        "    \n",
        "    return lr\n",
        "\n",
        "schedule = LearningRateScheduler(step_decay)\n",
        "\n",
        "# model. # . . . \n",
        "\n",
        "model.fit(# . . .\n",
        "        callbacks=[schedule])"
      ]
    },
    {
      "cell_type": "markdown",
      "metadata": {
        "id": "sgTWLKGFXjHi"
      },
      "source": [
        "## 1.j Vanishing Gradient\n",
        "\n",
        "`Nota:` para esta y las siguientes preguntas solo considere el mejor conjunto de entrenamiento obtenidos a partir de la imputación, es decir, escoja el $X \\in \\{X_1, X_2, X_3\\}$ con el que mejores resultados haya obtenido hasta ahora.\n",
        "\n",
        "El fenómeno del _vanishing gradient_ es el rápido decaimiento del paso de _Backpropagation_ al avanzar por las capas. A lo largo de la tarea solo hemos entrenado capas con una red oculta, de igual forma que la comunidad cientifica realizo por largo tiempo, por el problema del _vanishing gradient_ y por el teorema de aproximación universal que resumidamente demuestra que una red de una sola capa puede aproximar una amplia familia de funciones. \n",
        "\n",
        "En esta pregunta entrenaremos una red neuronal profunda sin implementar ninguno de los dispositivos que permiten hoy en día sortear el problema del _vanishing gradient_, para ponerlo en evidencia. Para esto construya una red con 6 capas ocultas, con la siguiente lista de numero de neuronas: $256$ $256$ $128$ $128$ $32$ y $32$, o con valores similares. De tal manera obtendrá un valor de parámetros relativamente comparable a los valores utilizados en las primeras redes. \n",
        "\n",
        "Grafique un histograma con los pesos de las 6 capas densas de la red sin entrenar, entrenela a completitud con el método que estime conveniente y luego grafique nuevamente los histogramas para las 6 capas. Comente lo que observa. \n",
        "\n",
        "Luego, pruebe cambiar la inizialización de los pesos de la capa densa, puede revisar la documentación de keras para ver las opciones existentes a parte de `glorot_uniform` por defecto. ¿Se logra solucionar el problema? \n",
        "\n",
        "Por último, pruebe aumentar la tasa de aprendizaje para ver si logra hacer que el paso de _backpropagation_ alcance las capas que anteriormente no se entrenaban. ¿Qué observa en este caso? "
      ]
    },
    {
      "cell_type": "code",
      "execution_count": null,
      "metadata": {
        "id": "mGVS1TjVXkY2"
      },
      "outputs": [],
      "source": [
        "# . . .\n",
        "\n",
        "layer_kernel_weights = model.get_layer(index=i).get_weights()[0]\n",
        "layer_bias_weight = model.get_layer(index=i).get_weights()[1]\n",
        "# for one layer\n",
        "# you can also name your layers and call them by their names if it's less confusing\n",
        "\n",
        "# . . . "
      ]
    },
    {
      "cell_type": "markdown",
      "metadata": {
        "id": "8xzSDda3X54n"
      },
      "source": [
        "## 1.k Batch Normalization\n",
        "\n",
        "Una manera propuesta de mejorar los desempeños de las redes es Batch Normalization. Entrene nuevamente su red preferida de la pregunta anterior, agregando capas de _Batch Normalization_ antes de cada función de activación. Comente sus resultados. Luego pruebe agregando capas de _Batch Normalization_ después de cada función de activación.\n",
        "\n",
        "¿Qué realiza _Batch Normalization_ en términos matemáticos?. En términos de aprendizaje, ¿Qué evita la utilización de _Batch Normalization_?\n",
        "\n",
        "¿Mejoran los desempeños de la red agregando _Batch Normalization_?¿Existe diferencias entre una capa de _Batch Normalization_ justo antes o justo después de la función de activación en términos de aprendizaje? Discuta."
      ]
    },
    {
      "cell_type": "code",
      "execution_count": null,
      "metadata": {
        "id": "gsaYTmuWYHer"
      },
      "outputs": [],
      "source": [
        "# . . .\n",
        "generator_net.add(Dense(...))\n",
        "generator_net.add(BatchNormalization())\n",
        "generator_net.add(LeakyReLU())\n",
        "# . . ."
      ]
    },
    {
      "cell_type": "markdown",
      "metadata": {
        "id": "RuJPFehRXsOh"
      },
      "source": [
        "## 1.l Otros Optimizadores\n",
        "\n",
        "Utilizando la arquitectura de red que mejor se haya desempeñado a lo largo de la tarea, entrene esta red utilizando un optimizador distinto al gradiente descendente estocástico. Pruebe al menos 2 optimizadores implementados en keras (puede utilizar Adam, AdaGrad, AdaDelta, RMSprop, entre otros), también puede probar modificando los parámetros que no hemos utilizado del gradiente descendente estocástico (momentum, momentum de Nesterov...).\n",
        "\n",
        "Note que por las inicializaciones por defecto de los pesos de las capas y la naturaleza de los datos en cuestión, puede ocurrir que para los valores defecto de algunos optimizadores la red diverga en las primeras iteraciones. Para fijar los parámeros de los optimizadores debe importarlos desde `keras.optimizers` y pasar el objeto con los parámetros deseados al método `.compile` de su modelo. En cambio si con los valores usuales basta, algunos optimizadores pueden pasarse como `string` a `.compile`.\n",
        "\n",
        "Compare como se desempeñan estos optimizadores con la versión utilizada anteriormente, considerando los tiempos de entrenamiento y el desempeño final alcanzado. Apoyese de gráficos. "
      ]
    },
    {
      "cell_type": "code",
      "execution_count": null,
      "metadata": {
        "id": "EgOhV-HxXtvm"
      },
      "outputs": [],
      "source": [
        "# . . .\n",
        "\n",
        "opt = Adam(lr=0.0004, decay=1e-10, ...)\n",
        "ANN.compile(loss='binary_crossentropy', optimizer = optimizer_discriminator, metrics=['accuracy'])\n",
        "\n",
        "# . . ."
      ]
    },
    {
      "cell_type": "markdown",
      "metadata": {
        "id": "13aG8_EkXyxV"
      },
      "source": [
        "## 1.m Testing \n",
        "\n",
        "Finalmente, luego de entrenar todos estos modelos estamos en condiciones de probar que tan bien fue nuestro desempeño. Para esto utilice el modelo en el cual obtuvo el mejor desempeño en validación y calcule el error de la predicción realizada sobre el _Test set_. Puede utilizar el metodo `.predict` de su modelo. \n",
        "\n",
        "¿Qué tan bien se desempeñaría su modelo en un caso real en vista de lo anterior? "
      ]
    },
    {
      "cell_type": "code",
      "execution_count": null,
      "metadata": {
        "id": "4bd-nauiX04A"
      },
      "outputs": [],
      "source": [
        "# . . ."
      ]
    }
  ],
  "metadata": {
    "colab": {
      "collapsed_sections": [],
      "provenance": []
    },
    "gpuClass": "standard",
    "kernelspec": {
      "display_name": "Python 3.9.12 ('redes')",
      "language": "python",
      "name": "python3"
    },
    "language_info": {
      "codemirror_mode": {
        "name": "ipython",
        "version": 3
      },
      "file_extension": ".py",
      "mimetype": "text/x-python",
      "name": "python",
      "nbconvert_exporter": "python",
      "pygments_lexer": "ipython3",
      "version": "3.9.12"
    },
    "vscode": {
      "interpreter": {
        "hash": "6fa6bfa51936e2c71eb3e50370d169524fdc0987b1ba62561bce771533253b6e"
      }
    }
  },
  "nbformat": 4,
  "nbformat_minor": 0
}
